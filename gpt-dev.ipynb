{
 "cells": [
  {
   "cell_type": "code",
   "execution_count": 2,
   "metadata": {},
   "outputs": [
    {
     "name": "stdout",
     "output_type": "stream",
     "text": [
      "--2024-06-16 18:00:42--  https://raw.githubusercontent.com/karpathy/char-rnn/master/data/tinyshakespeare/input.txt\n",
      "Resolving raw.githubusercontent.com (raw.githubusercontent.com)... 185.199.109.133, 185.199.111.133, 185.199.108.133, ...\n",
      "Connecting to raw.githubusercontent.com (raw.githubusercontent.com)|185.199.109.133|:443... connected.\n",
      "HTTP request sent, awaiting response... 200 OK\n",
      "Length: 1115394 (1.1M) [text/plain]\n",
      "Saving to: ‘input.txt’\n",
      "\n",
      "input.txt           100%[===================>]   1.06M  --.-KB/s    in 0.005s  \n",
      "\n",
      "2024-06-16 18:00:42 (236 MB/s) - ‘input.txt’ saved [1115394/1115394]\n",
      "\n"
     ]
    }
   ],
   "source": [
    "# get the data from the internet\n",
    "!wget https://raw.githubusercontent.com/karpathy/char-rnn/master/data/tinyshakespeare/input.txt"
   ]
  },
  {
   "cell_type": "code",
   "execution_count": 3,
   "metadata": {},
   "outputs": [],
   "source": [
    "# read the data\n",
    "with open('input.txt', 'r', encoding='utf-8') as file:\n",
    "    text = file.read()"
   ]
  },
  {
   "cell_type": "code",
   "execution_count": 4,
   "metadata": {},
   "outputs": [
    {
     "name": "stdout",
     "output_type": "stream",
     "text": [
      "length of the dataset in characters:  1115394\n"
     ]
    }
   ],
   "source": [
    "print (\"length of the dataset in characters: \", len(text))"
   ]
  },
  {
   "cell_type": "code",
   "execution_count": 5,
   "metadata": {},
   "outputs": [
    {
     "name": "stdout",
     "output_type": "stream",
     "text": [
      "First 100 characters of the dataset:  First Citizen:\n",
      "Before we proceed any further, hear me speak.\n",
      "\n",
      "All:\n",
      "Speak, speak.\n",
      "\n",
      "First Citizen:\n",
      "You\n"
     ]
    }
   ],
   "source": [
    "print (\"First 100 characters of the dataset: \", text[:100])"
   ]
  },
  {
   "cell_type": "code",
   "execution_count": 6,
   "metadata": {},
   "outputs": [
    {
     "name": "stdout",
     "output_type": "stream",
     "text": [
      "Number of unique characters in the dataset:  65\n",
      "\n",
      " !$&',-.3:;?ABCDEFGHIJKLMNOPQRSTUVWXYZabcdefghijklmnopqrstuvwxyz\n"
     ]
    }
   ],
   "source": [
    "chars = sorted(list(set(text)))\n",
    "vocab_size = len(chars)\n",
    "print (\"Number of unique characters in the dataset: \", vocab_size)\n",
    "print (''.join(chars))"
   ]
  },
  {
   "cell_type": "code",
   "execution_count": 9,
   "metadata": {},
   "outputs": [
    {
     "name": "stdout",
     "output_type": "stream",
     "text": [
      "[46, 43, 50, 50, 53]\n",
      "\n",
      " !$'\n"
     ]
    }
   ],
   "source": [
    "# create a mapping from characters to integers\n",
    "stoi = { ch:i for i,ch in enumerate(chars) }\n",
    "itos = { i:ch for i,ch in enumerate(chars) }\n",
    "encode = lambda x: [stoi[ch] for ch in x] # encoder: take a string, output a list of integers\n",
    "decode = lambda x: ''.join([itos[i] for i in x]) # decoder: take a list of integers, output a string\n",
    "\n",
    "print (encode('hello'))\n",
    "print (decode([0, 1, 2, 3, 5]))\n"
   ]
  },
  {
   "cell_type": "code",
   "execution_count": 10,
   "metadata": {},
   "outputs": [
    {
     "name": "stdout",
     "output_type": "stream",
     "text": [
      "torch.Size([1115394]) torch.int64\n",
      "tensor([18, 47, 56, 57, 58,  1, 15, 47, 58, 47, 64, 43, 52, 10,  0, 14, 43, 44,\n",
      "        53, 56, 43,  1, 61, 43,  1, 54, 56, 53, 41, 43, 43, 42,  1, 39, 52, 63,\n",
      "         1, 44, 59, 56, 58, 46, 43, 56,  6,  1, 46, 43, 39, 56,  1, 51, 43,  1,\n",
      "        57, 54, 43, 39, 49,  8,  0,  0, 13, 50, 50, 10,  0, 31, 54, 43, 39, 49,\n",
      "         6,  1, 57, 54, 43, 39, 49,  8,  0,  0, 18, 47, 56, 57, 58,  1, 15, 47,\n",
      "        58, 47, 64, 43, 52, 10,  0, 37, 53, 59])\n"
     ]
    }
   ],
   "source": [
    "import torch\n",
    "\n",
    "data = torch.tensor(encode(text), dtype=torch.long)\n",
    "\n",
    "print (data.shape, data.dtype)\n",
    "print (data[:100]) # first 100 characters"
   ]
  },
  {
   "cell_type": "code",
   "execution_count": 11,
   "metadata": {},
   "outputs": [],
   "source": [
    "# training and validation split\n",
    "n = int(0.9*len(data))\n",
    "train_data, val_data = data[:n], data[n:]"
   ]
  },
  {
   "cell_type": "code",
   "execution_count": 12,
   "metadata": {},
   "outputs": [
    {
     "data": {
      "text/plain": [
       "tensor([18, 47, 56, 57, 58,  1, 15, 47, 58])"
      ]
     },
     "execution_count": 12,
     "metadata": {},
     "output_type": "execute_result"
    }
   ],
   "source": [
    "block_size = 8\n",
    "train_data[:block_size+1]"
   ]
  },
  {
   "cell_type": "code",
   "execution_count": 15,
   "metadata": {},
   "outputs": [
    {
     "name": "stdout",
     "output_type": "stream",
     "text": [
      "when the context is tensor([18]) the next character is 47\n",
      "when the context is tensor([18, 47]) the next character is 56\n",
      "when the context is tensor([18, 47, 56]) the next character is 57\n",
      "when the context is tensor([18, 47, 56, 57]) the next character is 58\n",
      "when the context is tensor([18, 47, 56, 57, 58]) the next character is 1\n",
      "when the context is tensor([18, 47, 56, 57, 58,  1]) the next character is 15\n",
      "when the context is tensor([18, 47, 56, 57, 58,  1, 15]) the next character is 47\n",
      "when the context is tensor([18, 47, 56, 57, 58,  1, 15, 47]) the next character is 58\n"
     ]
    }
   ],
   "source": [
    "x = train_data[:block_size]\n",
    "y = train_data[1:block_size+1]\n",
    "for t in range(block_size):\n",
    "    context = x[:t+1]\n",
    "    target = y[t]\n",
    "    print (f\"when the context is {context} the next character is {target}\")"
   ]
  },
  {
   "cell_type": "code",
   "execution_count": 18,
   "metadata": {},
   "outputs": [
    {
     "name": "stdout",
     "output_type": "stream",
     "text": [
      "torch.Size([4, 8]) torch.Size([4, 8])\n",
      "tensor([[24, 43, 58,  5, 57,  1, 46, 43],\n",
      "        [44, 53, 56,  1, 58, 46, 39, 58],\n",
      "        [52, 58,  1, 58, 46, 39, 58,  1],\n",
      "        [25, 17, 27, 10,  0, 21,  1, 54]])\n",
      "tensor([[43, 58,  5, 57,  1, 46, 43, 39],\n",
      "        [53, 56,  1, 58, 46, 39, 58,  1],\n",
      "        [58,  1, 58, 46, 39, 58,  1, 46],\n",
      "        [17, 27, 10,  0, 21,  1, 54, 39]])\n"
     ]
    }
   ],
   "source": [
    "torch.manual_seed(1337)\n",
    "\n",
    "batch_size = 4 # number of sequences in a mini-batch\n",
    "block_size = 8 # number of characters in a sequence\n",
    "\n",
    "def get_batch(split):\n",
    "    # generate a small batch of data of input x and target y\n",
    "    data = train_data if split == 'train' else val_data\n",
    "    ix = torch.randint(len(data) - block_size, (batch_size,))\n",
    "    x = torch.stack([data[i:i+block_size] for i in ix])\n",
    "    y = torch.stack([data[i+1:i+block_size+1] for i in ix])\n",
    "    return x, y\n",
    "\n",
    "xb, yb = get_batch('train')\n",
    "print (xb.shape, yb.shape)\n",
    "print(xb)\n",
    "print (yb)"
   ]
  },
  {
   "cell_type": "code",
   "execution_count": 30,
   "metadata": {},
   "outputs": [
    {
     "name": "stdout",
     "output_type": "stream",
     "text": [
      "torch.Size([32, 65])\n",
      "tensor(4.8786, grad_fn=<NllLossBackward0>)\n",
      "\n",
      "Sr?qP-QWktXoL&jLDJgOLVz'RIoDqHdhsV&vLLxatjscMpwLERSPyao.qfzs$Ys$zF-w,;eEkzxjgCKFChs!iWW.ObzDnxA Ms$3\n"
     ]
    }
   ],
   "source": [
    "import torch\n",
    "import torch.nn as nn\n",
    "from torch.nn import functional as F\n",
    "torch.manual_seed(1337)\n",
    "\n",
    "class BigramLanguageModel(nn.Module):\n",
    "    def __init__(self, vocab_size):\n",
    "        super().__init__()\n",
    "        self.token_embedding_table = nn.Embedding(vocab_size, vocab_size)\n",
    "        \n",
    "    def forward(self, idx, targets = None):\n",
    "        \n",
    "        logits = self.token_embedding_table(idx)\n",
    "\n",
    "        if targets is None:\n",
    "            loss = None\n",
    "        else:\n",
    "            # idx and targets are both (B,T) tensor of integers\n",
    "            B, T, C = logits.shape\n",
    "            logits = logits.view(B*T, C)\n",
    "            targets = targets.view(B*T)\n",
    "            loss = F.cross_entropy(logits, targets)\n",
    "        return logits, loss\n",
    "    \n",
    "    def generate(self, idx, max_new_tokens):\n",
    "        for _ in range(max_new_tokens):\n",
    "            # get the predictions\n",
    "            logits, loss = self(idx)\n",
    "            # focus only on the last time step\n",
    "            logits = logits[:, -1, :] # B, C\n",
    "            # apply softmax to get probabilities\n",
    "            probs = F.softmax(logits, dim=-1) # B, C\n",
    "            # sample from the distribution\n",
    "            next_token = torch.multinomial(probs, num_samples=1) # B, 1\n",
    "            # append sampled index to the running sequence\n",
    "            idx = torch.cat([idx, next_token], dim=1)\n",
    "        return idx\n",
    "        \n",
    "m = BigramLanguageModel(vocab_size)\n",
    "logits, loss = m(xb, yb)\n",
    "print (logits.shape)\n",
    "print (loss)\n",
    "\n",
    "\n",
    "print(decode(m.generate(idx = torch.zeros((1,1), dtype=torch.long), max_new_tokens=100)[0].tolist()))"
   ]
  },
  {
   "cell_type": "code",
   "execution_count": 31,
   "metadata": {},
   "outputs": [],
   "source": [
    "# create a pytorch optimizer\n",
    "optimizer = torch.optim.Adam(m.parameters(), lr=1e-3)"
   ]
  },
  {
   "cell_type": "code",
   "execution_count": 35,
   "metadata": {},
   "outputs": [
    {
     "name": "stdout",
     "output_type": "stream",
     "text": [
      "step: 0, loss: 3.0029618740081787\n",
      "step: 100, loss: 3.0597994327545166\n",
      "step: 200, loss: 2.9590420722961426\n",
      "step: 300, loss: 2.982276201248169\n",
      "step: 400, loss: 2.9200470447540283\n",
      "step: 500, loss: 2.84088134765625\n",
      "step: 600, loss: 2.8899765014648438\n",
      "step: 700, loss: 2.9750688076019287\n",
      "step: 800, loss: 2.808044672012329\n",
      "step: 900, loss: 2.7770206928253174\n",
      "step: 1000, loss: 2.747230291366577\n",
      "step: 1100, loss: 2.6850526332855225\n",
      "step: 1200, loss: 2.679885149002075\n",
      "step: 1300, loss: 2.68688702583313\n",
      "step: 1400, loss: 2.810159683227539\n",
      "step: 1500, loss: 2.691971778869629\n",
      "step: 1600, loss: 2.66461181640625\n",
      "step: 1700, loss: 2.6310133934020996\n",
      "step: 1800, loss: 2.7520360946655273\n",
      "step: 1900, loss: 2.5809037685394287\n",
      "step: 2000, loss: 2.629011869430542\n",
      "step: 2100, loss: 2.624750852584839\n",
      "step: 2200, loss: 2.547957181930542\n",
      "step: 2300, loss: 2.58158540725708\n",
      "step: 2400, loss: 2.6034939289093018\n",
      "step: 2500, loss: 2.617574453353882\n",
      "step: 2600, loss: 2.5722484588623047\n",
      "step: 2700, loss: 2.511366367340088\n",
      "step: 2800, loss: 2.6074514389038086\n",
      "step: 2900, loss: 2.5077037811279297\n",
      "step: 3000, loss: 2.5723509788513184\n",
      "step: 3100, loss: 2.4938509464263916\n",
      "step: 3200, loss: 2.5230987071990967\n",
      "step: 3300, loss: 2.4825401306152344\n",
      "step: 3400, loss: 2.545375347137451\n",
      "step: 3500, loss: 2.5758450031280518\n",
      "step: 3600, loss: 2.600005626678467\n",
      "step: 3700, loss: 2.3530614376068115\n",
      "step: 3800, loss: 2.4447317123413086\n",
      "step: 3900, loss: 2.528287172317505\n",
      "step: 4000, loss: 2.4946839809417725\n",
      "step: 4100, loss: 2.4428963661193848\n",
      "step: 4200, loss: 2.4436542987823486\n",
      "step: 4300, loss: 2.5285544395446777\n",
      "step: 4400, loss: 2.468841075897217\n",
      "step: 4500, loss: 2.5544025897979736\n",
      "step: 4600, loss: 2.46596360206604\n",
      "step: 4700, loss: 2.6043810844421387\n",
      "step: 4800, loss: 2.56870698928833\n",
      "step: 4900, loss: 2.501732587814331\n",
      "step: 5000, loss: 2.440998077392578\n",
      "step: 5100, loss: 2.520970344543457\n",
      "step: 5200, loss: 2.4477615356445312\n",
      "step: 5300, loss: 2.406963348388672\n",
      "step: 5400, loss: 2.395866870880127\n",
      "step: 5500, loss: 2.4263803958892822\n",
      "step: 5600, loss: 2.4208271503448486\n",
      "step: 5700, loss: 2.491838216781616\n",
      "step: 5800, loss: 2.4361510276794434\n",
      "step: 5900, loss: 2.466592311859131\n",
      "step: 6000, loss: 2.49214506149292\n",
      "step: 6100, loss: 2.405332565307617\n",
      "step: 6200, loss: 2.6104485988616943\n",
      "step: 6300, loss: 2.4645237922668457\n",
      "step: 6400, loss: 2.4175832271575928\n",
      "step: 6500, loss: 2.4606645107269287\n",
      "step: 6600, loss: 2.440732479095459\n",
      "step: 6700, loss: 2.635645627975464\n",
      "step: 6800, loss: 2.3335728645324707\n",
      "step: 6900, loss: 2.4820709228515625\n",
      "step: 7000, loss: 2.532583236694336\n",
      "step: 7100, loss: 2.5850303173065186\n",
      "step: 7200, loss: 2.370664358139038\n",
      "step: 7300, loss: 2.443483829498291\n",
      "step: 7400, loss: 2.4058077335357666\n",
      "step: 7500, loss: 2.525002956390381\n",
      "step: 7600, loss: 2.5208353996276855\n",
      "step: 7700, loss: 2.4349474906921387\n",
      "step: 7800, loss: 2.4284467697143555\n",
      "step: 7900, loss: 2.416905403137207\n",
      "step: 8000, loss: 2.4216861724853516\n",
      "step: 8100, loss: 2.4163548946380615\n",
      "step: 8200, loss: 2.5215015411376953\n",
      "step: 8300, loss: 2.509030818939209\n",
      "step: 8400, loss: 2.455659866333008\n",
      "step: 8500, loss: 2.4366161823272705\n",
      "step: 8600, loss: 2.4950273036956787\n",
      "step: 8700, loss: 2.600907325744629\n",
      "step: 8800, loss: 2.4845616817474365\n",
      "step: 8900, loss: 2.5312211513519287\n",
      "step: 9000, loss: 2.348907709121704\n",
      "step: 9100, loss: 2.369771957397461\n",
      "step: 9200, loss: 2.3953359127044678\n",
      "step: 9300, loss: 2.476912498474121\n",
      "step: 9400, loss: 2.4290952682495117\n",
      "step: 9500, loss: 2.4697673320770264\n",
      "step: 9600, loss: 2.348676919937134\n",
      "step: 9700, loss: 2.398132801055908\n",
      "step: 9800, loss: 2.3002524375915527\n",
      "step: 9900, loss: 2.3752293586730957\n"
     ]
    }
   ],
   "source": [
    "batch_size = 32\n",
    "\n",
    "for steps in range(10000):\n",
    "    # get a batch of data\n",
    "    xb, yb = get_batch('train')\n",
    "    # evaluate the loss\n",
    "    logits, loss = m(xb, yb)\n",
    "    optimizer.zero_grad(set_to_none=True)\n",
    "    loss.backward()\n",
    "    optimizer.step()\n",
    "    if steps % 100 == 0:\n",
    "        print (f\"step: {steps}, loss: {loss.item()}\")"
   ]
  },
  {
   "cell_type": "code",
   "execution_count": 36,
   "metadata": {},
   "outputs": [
    {
     "name": "stdout",
     "output_type": "stream",
     "text": [
      "\n",
      "\n",
      "Thilapo belll w anive? nanowalarpe JOFiase ig bo, t ced bere\n",
      "LLe neset aiemy\n",
      "I wie yat y mexirourou\n"
     ]
    }
   ],
   "source": [
    "print(decode(m.generate(idx = torch.zeros((1,1), dtype=torch.long), max_new_tokens=100)[0].tolist()))"
   ]
  },
  {
   "cell_type": "code",
   "execution_count": 2,
   "metadata": {},
   "outputs": [
    {
     "data": {
      "text/plain": [
       "torch.Size([4, 8, 2])"
      ]
     },
     "execution_count": 2,
     "metadata": {},
     "output_type": "execute_result"
    }
   ],
   "source": [
    "# the mathematical trick in self attention\n",
    "\n",
    "import torch\n",
    "torch.manual_seed(1337)\n",
    "B,T,C = 4,8,2 # batch, time, channels\n",
    "x = torch.randn(B,T,C)\n",
    "x.shape"
   ]
  },
  {
   "cell_type": "code",
   "execution_count": 4,
   "metadata": {},
   "outputs": [],
   "source": [
    "# We want x[t,t]=mean_{i<=t} x[b,i]\n",
    "xbow = torch.zeros((B,T,C))\n",
    "for b in range(B):\n",
    "    for t in range(T):\n",
    "        xprev = x[b,:t+1]\n",
    "        xbow[b,t] = torch.mean(xprev, 0)"
   ]
  },
  {
   "cell_type": "code",
   "execution_count": 5,
   "metadata": {},
   "outputs": [
    {
     "data": {
      "text/plain": [
       "False"
      ]
     },
     "execution_count": 5,
     "metadata": {},
     "output_type": "execute_result"
    }
   ],
   "source": [
    "wei = torch.tril(torch.ones(T,T))\n",
    "wei = wei / wei.sum(1, keepdim=True)\n",
    "xbow2 = wei @ x # (T,T) @ (B,T,C) = (B,T,C)\n",
    "torch.allclose(xbow, xbow2)"
   ]
  },
  {
   "cell_type": "code",
   "execution_count": 19,
   "metadata": {},
   "outputs": [
    {
     "data": {
      "text/plain": [
       "True"
      ]
     },
     "execution_count": 19,
     "metadata": {},
     "output_type": "execute_result"
    }
   ],
   "source": [
    "# version 3: use softmax\n",
    "tril = torch.tril(torch.ones(T,T))\n",
    "wei = torch.zeros((T,T))\n",
    "wei = wei.masked_fill(tril == 0, float('-inf'))\n",
    "wei = torch.softmax(wei, dim=-1)\n",
    "xbow3 = wei @ x\n",
    "torch.allclose(xbow2, xbow3)"
   ]
  },
  {
   "cell_type": "code",
   "execution_count": 26,
   "metadata": {},
   "outputs": [
    {
     "data": {
      "text/plain": [
       "torch.Size([4, 8, 16])"
      ]
     },
     "execution_count": 26,
     "metadata": {},
     "output_type": "execute_result"
    }
   ],
   "source": [
    "# import nn\n",
    "import torch\n",
    "import torch.nn as nn\n",
    "# version 4: self attention\n",
    "torch.manual_seed(1337)\n",
    "B,T,C = 4,8,32\n",
    "x = torch.randn(B,T,C)\n",
    "\n",
    "# single head\n",
    "head_size=16\n",
    "key = nn.Linear(C, head_size, bias=False)\n",
    "query = nn.Linear(C, head_size, bias=False)\n",
    "value = nn.Linear(C, head_size, bias=False)\n",
    "k = key(x) # B,T,H\n",
    "q = query(x) # B,T,H\n",
    "wei = q @ k.transpose(-1,-2) # (B, T, 16) @ (B, 16, T) = (B, T, T)\n",
    "\n",
    "\n",
    "tril = torch.tril(torch.ones(T,T))\n",
    "wei = torch.zeros((T,T))\n",
    "wei = wei.masked_fill(tril == 0, float('-inf'))\n",
    "wei = torch.softmax(wei, dim=-1)\n",
    "\n",
    "v = value(x)\n",
    "out = wei @ v\n",
    "\n",
    "out.shape"
   ]
  },
  {
   "cell_type": "code",
   "execution_count": null,
   "metadata": {},
   "outputs": [],
   "source": []
  }
 ],
 "metadata": {
  "kernelspec": {
   "display_name": "pytorch",
   "language": "python",
   "name": "python3"
  },
  "language_info": {
   "codemirror_mode": {
    "name": "ipython",
    "version": 3
   },
   "file_extension": ".py",
   "mimetype": "text/x-python",
   "name": "python",
   "nbconvert_exporter": "python",
   "pygments_lexer": "ipython3",
   "version": "3.10.13"
  }
 },
 "nbformat": 4,
 "nbformat_minor": 2
}
